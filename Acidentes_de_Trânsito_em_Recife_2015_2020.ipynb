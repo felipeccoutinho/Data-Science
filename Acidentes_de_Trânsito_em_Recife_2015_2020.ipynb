{
  "nbformat": 4,
  "nbformat_minor": 0,
  "metadata": {
    "colab": {
      "name": "Acidentes de Trânsito em Recife 2015-2020.ipynb",
      "provenance": [],
      "collapsed_sections": [],
      "authorship_tag": "ABX9TyOw1MApAtf0M8B60HsXeMOS",
      "include_colab_link": true
    },
    "kernelspec": {
      "name": "python3",
      "display_name": "Python 3"
    },
    "language_info": {
      "name": "python"
    }
  },
  "cells": [
    {
      "cell_type": "markdown",
      "metadata": {
        "id": "view-in-github",
        "colab_type": "text"
      },
      "source": [
        "<a href=\"https://colab.research.google.com/github/felipeccoutinho/Data-Science/blob/main/Acidentes_de_Tr%C3%A2nsito_em_Recife_2015_2020.ipynb\" target=\"_parent\"><img src=\"https://colab.research.google.com/assets/colab-badge.svg\" alt=\"Open In Colab\"/></a>"
      ]
    },
    {
      "cell_type": "markdown",
      "metadata": {
        "id": "b1CjqQgph-w4"
      },
      "source": [
        "\n",
        "\n",
        "MAIO AMARELO\n",
        "\n",
        "Desde 2014, o Movimento Maio Amarelo abre o debate sobre prevenção de acidentes de trânsito com campanhas anuais que envolvem o poder público e a sociedade civil. A escolha do mês se deu porque ele é historicamente um marco mundial para a segurança no trânsito e para o balanço das ações realizadas em todo o mundo. Foi em 11 de maio de 2011 que a ONU decretou a Década de ações para a Segurança do Trânsito, que tem como meta a redução de acidentes de trânsito em 50%, no Brasil e no mundo. Também é realizada em maio a Semana Mundial de Segurança do Pedestre, também chamada de Campanha Zenani Mandela, em memória à neta de Nelson Mandela, vítima fatal do trânsito na África do Sul em 2010, com apenas 13 anos. O amarelo faz referência à “atenção”, numa alusão à sinalização de advertência. O mês é marcado por campanhas para a conscientização de motoristas para os altos índices de mortes e feridos no trânsito em todo o mundo. Para este ano, o tema “Nós somos o trânsito” já conta com o apoio coordenado entre o Poder Público e a sociedade civil. Os acidentes de trânsito representam a nona maior causa de morte em todo o mundo, sendo o primeiro responsável por mortes entre pessoas com 15 a 29 anos de idade, segundo órgãos internacionais.\n",
        "\n"
      ]
    },
    {
      "cell_type": "markdown",
      "metadata": {
        "id": "vF0n7niuqrNy"
      },
      "source": [
        "FONTE DE DADOS\n",
        "http://dados.recife.pe.gov.br/it/dataset/acidentes-de-transito-com-e-sem-vitimas/resource/fc1c8460-0406-4fff-b51a-e79205d1f1ab"
      ]
    },
    {
      "cell_type": "markdown",
      "metadata": {
        "id": "EIxYmXlJtMvi"
      },
      "source": [
        "[Veja a campanha do Maio](https://www.youtube.com/watch?v=eXTx20mgntc)"
      ]
    },
    {
      "cell_type": "code",
      "metadata": {
        "colab": {
          "base_uri": "https://localhost:8080/",
          "height": 469
        },
        "id": "yjolgU9ph_k2",
        "outputId": "aa69eb36-0a99-477d-b36c-0b91fa5199ea"
      },
      "source": [
        "import pandas as pd\n",
        "import numpy as np\n",
        "import matplotlib.pyplot as plt\n",
        "\n",
        "df_2017 = pd.read_excel('https://raw.githubusercontent.com/felipeccoutinho/Data-Science/main/acidentes_2017.xlsx')\n",
        "df_2018 = pd.read_excel('https://raw.githubusercontent.com/felipeccoutinho/Data-Science/main/acidentes_2018.xlsx')\n",
        "df_2019 = pd.read_excel('https://raw.githubusercontent.com/felipeccoutinho/Data-Science/main/acidentes_2019.xlsx')\n",
        "df_2020 = pd.read_excel('https://raw.githubusercontent.com/felipeccoutinho/Data-Science/main/acidentes_2020.xlsx')\n",
        "df_2017.head()"
      ],
      "execution_count": null,
      "outputs": [
        {
          "output_type": "execute_result",
          "data": {
            "text/html": [
              "<div>\n",
              "<style scoped>\n",
              "    .dataframe tbody tr th:only-of-type {\n",
              "        vertical-align: middle;\n",
              "    }\n",
              "\n",
              "    .dataframe tbody tr th {\n",
              "        vertical-align: top;\n",
              "    }\n",
              "\n",
              "    .dataframe thead th {\n",
              "        text-align: right;\n",
              "    }\n",
              "</style>\n",
              "<table border=\"1\" class=\"dataframe\">\n",
              "  <thead>\n",
              "    <tr style=\"text-align: right;\">\n",
              "      <th></th>\n",
              "      <th>data</th>\n",
              "      <th>hora</th>\n",
              "      <th>natureza_acidente</th>\n",
              "      <th>situacao</th>\n",
              "      <th>bairro</th>\n",
              "      <th>endereco</th>\n",
              "      <th>numero</th>\n",
              "      <th>detalhe_endereco_acidente</th>\n",
              "      <th>complemento</th>\n",
              "      <th>tipo</th>\n",
              "      <th>auto</th>\n",
              "      <th>moto</th>\n",
              "      <th>ciclom</th>\n",
              "      <th>ciclista</th>\n",
              "      <th>pedestre</th>\n",
              "      <th>onibus</th>\n",
              "      <th>caminhao</th>\n",
              "      <th>viatura</th>\n",
              "      <th>outros</th>\n",
              "      <th>vitimas</th>\n",
              "      <th>vitimasfatais</th>\n",
              "    </tr>\n",
              "  </thead>\n",
              "  <tbody>\n",
              "    <tr>\n",
              "      <th>0</th>\n",
              "      <td>2017-01-01</td>\n",
              "      <td>02:55:00</td>\n",
              "      <td>SEM VÍTIMA</td>\n",
              "      <td>CANCELADA</td>\n",
              "      <td>CABANGA</td>\n",
              "      <td>AV SUL</td>\n",
              "      <td>NaN</td>\n",
              "      <td>NaN</td>\n",
              "      <td>SEMAFORO 260</td>\n",
              "      <td>COLISÃO</td>\n",
              "      <td>1.0</td>\n",
              "      <td>NaN</td>\n",
              "      <td>NaN</td>\n",
              "      <td>NaN</td>\n",
              "      <td>NaN</td>\n",
              "      <td>1.0</td>\n",
              "      <td>NaN</td>\n",
              "      <td>NaN</td>\n",
              "      <td>NaN</td>\n",
              "      <td>0.0</td>\n",
              "      <td>NaN</td>\n",
              "    </tr>\n",
              "    <tr>\n",
              "      <th>1</th>\n",
              "      <td>2017-01-01</td>\n",
              "      <td>05:32:00</td>\n",
              "      <td>SEM VÍTIMA</td>\n",
              "      <td>FINALIZADA</td>\n",
              "      <td>SANTO AMARO</td>\n",
              "      <td>RUA BARROS BARRETO</td>\n",
              "      <td>483</td>\n",
              "      <td>NaN</td>\n",
              "      <td>PROX DO COLEGIO ESTACIO COIMBRA</td>\n",
              "      <td>CAPOTAMENTO</td>\n",
              "      <td>3.0</td>\n",
              "      <td>NaN</td>\n",
              "      <td>NaN</td>\n",
              "      <td>NaN</td>\n",
              "      <td>NaN</td>\n",
              "      <td>NaN</td>\n",
              "      <td>NaN</td>\n",
              "      <td>NaN</td>\n",
              "      <td>NaN</td>\n",
              "      <td>0.0</td>\n",
              "      <td>NaN</td>\n",
              "    </tr>\n",
              "    <tr>\n",
              "      <th>2</th>\n",
              "      <td>2017-01-01</td>\n",
              "      <td>06:00:00</td>\n",
              "      <td>SEM VÍTIMA</td>\n",
              "      <td>FINALIZADA</td>\n",
              "      <td>JARDIM SÃO PAULO</td>\n",
              "      <td>AV PIRACICABA</td>\n",
              "      <td>NaN</td>\n",
              "      <td>NaN</td>\n",
              "      <td>NO TERMINAL DOS ONIBUS JARDIM SAO PAULO PIRACICA</td>\n",
              "      <td>COLISÃO</td>\n",
              "      <td>1.0</td>\n",
              "      <td>NaN</td>\n",
              "      <td>NaN</td>\n",
              "      <td>NaN</td>\n",
              "      <td>NaN</td>\n",
              "      <td>1.0</td>\n",
              "      <td>NaN</td>\n",
              "      <td>NaN</td>\n",
              "      <td>NaN</td>\n",
              "      <td>0.0</td>\n",
              "      <td>NaN</td>\n",
              "    </tr>\n",
              "    <tr>\n",
              "      <th>3</th>\n",
              "      <td>2017-01-01</td>\n",
              "      <td>06:24:00</td>\n",
              "      <td>SEM VÍTIMA</td>\n",
              "      <td>FINALIZADA</td>\n",
              "      <td>JARDIM SÃO PAULO</td>\n",
              "      <td>AV SAO PAULO</td>\n",
              "      <td>474</td>\n",
              "      <td>NaN</td>\n",
              "      <td>EM FRENTE AO SHOPPING JARDIM</td>\n",
              "      <td>COLISÃO</td>\n",
              "      <td>2.0</td>\n",
              "      <td>NaN</td>\n",
              "      <td>NaN</td>\n",
              "      <td>NaN</td>\n",
              "      <td>NaN</td>\n",
              "      <td>NaN</td>\n",
              "      <td>NaN</td>\n",
              "      <td>NaN</td>\n",
              "      <td>NaN</td>\n",
              "      <td>0.0</td>\n",
              "      <td>NaN</td>\n",
              "    </tr>\n",
              "    <tr>\n",
              "      <th>4</th>\n",
              "      <td>2017-01-01</td>\n",
              "      <td>06:39:00</td>\n",
              "      <td>SEM VÍTIMA</td>\n",
              "      <td>PENDENTE</td>\n",
              "      <td>CAXANGÁ</td>\n",
              "      <td>AV CAXANGA</td>\n",
              "      <td>NaN</td>\n",
              "      <td>NaN</td>\n",
              "      <td>EM DA INTEGRAÇÃO DA CAXANGÁ</td>\n",
              "      <td>COLISÃO</td>\n",
              "      <td>NaN</td>\n",
              "      <td>1.0</td>\n",
              "      <td>NaN</td>\n",
              "      <td>NaN</td>\n",
              "      <td>NaN</td>\n",
              "      <td>NaN</td>\n",
              "      <td>NaN</td>\n",
              "      <td>NaN</td>\n",
              "      <td>NaN</td>\n",
              "      <td>0.0</td>\n",
              "      <td>NaN</td>\n",
              "    </tr>\n",
              "  </tbody>\n",
              "</table>\n",
              "</div>"
            ],
            "text/plain": [
              "        data      hora natureza_acidente  ... outros vitimas vitimasfatais\n",
              "0 2017-01-01  02:55:00        SEM VÍTIMA  ...    NaN     0.0           NaN\n",
              "1 2017-01-01  05:32:00        SEM VÍTIMA  ...    NaN     0.0           NaN\n",
              "2 2017-01-01  06:00:00        SEM VÍTIMA  ...    NaN     0.0           NaN\n",
              "3 2017-01-01  06:24:00        SEM VÍTIMA  ...    NaN     0.0           NaN\n",
              "4 2017-01-01  06:39:00        SEM VÍTIMA  ...    NaN     0.0           NaN\n",
              "\n",
              "[5 rows x 21 columns]"
            ]
          },
          "metadata": {
            "tags": []
          },
          "execution_count": 80
        }
      ]
    },
    {
      "cell_type": "code",
      "metadata": {
        "colab": {
          "base_uri": "https://localhost:8080/"
        },
        "id": "WVypV70Ijaq1",
        "outputId": "a9e575d2-9d49-450a-ba7e-1543ef256f24"
      },
      "source": [
        "df_tamanho = [df_2017.shape, df_2018.shape, df_2019.shape, df_2020.shape]\n",
        "df_tamanho\n",
        " "
      ],
      "execution_count": null,
      "outputs": [
        {
          "output_type": "execute_result",
          "data": {
            "text/plain": [
              "[(11758, 21), (11411, 21), (12062, 21), (4092, 21)]"
            ]
          },
          "metadata": {
            "tags": []
          },
          "execution_count": 81
        }
      ]
    },
    {
      "cell_type": "code",
      "metadata": {
        "colab": {
          "base_uri": "https://localhost:8080/"
        },
        "id": "a7kGrNZ3kskj",
        "outputId": "132a601b-6e9e-475e-e0ac-a83583a19f88"
      },
      "source": [
        "df_linhas = (df_2017.shape[0] + df_2018.shape[0] + df_2019.shape[0] + df_2020.shape[0])\n",
        "df_linhas\n",
        " "
      ],
      "execution_count": null,
      "outputs": [
        {
          "output_type": "execute_result",
          "data": {
            "text/plain": [
              "39323"
            ]
          },
          "metadata": {
            "tags": []
          },
          "execution_count": 82
        }
      ]
    },
    {
      "cell_type": "code",
      "metadata": {
        "colab": {
          "base_uri": "https://localhost:8080/",
          "height": 469
        },
        "id": "fDExuY2QfwZ3",
        "outputId": "ddaaa496-1f51-4633-b951-0f454e76b9f7"
      },
      "source": [
        "#unir todas as tabelas\n",
        "df_2017_2018 = pd.merge(df_2017, df_2018, how=\"outer\")\n",
        "df_2019_2020 = pd.merge(df_2019, df_2020, how=\"outer\")\n",
        "df = pd.merge(df_2017_2018, df_2019_2020, how=\"outer\")\n",
        "df.head()"
      ],
      "execution_count": null,
      "outputs": [
        {
          "output_type": "execute_result",
          "data": {
            "text/html": [
              "<div>\n",
              "<style scoped>\n",
              "    .dataframe tbody tr th:only-of-type {\n",
              "        vertical-align: middle;\n",
              "    }\n",
              "\n",
              "    .dataframe tbody tr th {\n",
              "        vertical-align: top;\n",
              "    }\n",
              "\n",
              "    .dataframe thead th {\n",
              "        text-align: right;\n",
              "    }\n",
              "</style>\n",
              "<table border=\"1\" class=\"dataframe\">\n",
              "  <thead>\n",
              "    <tr style=\"text-align: right;\">\n",
              "      <th></th>\n",
              "      <th>data</th>\n",
              "      <th>hora</th>\n",
              "      <th>natureza_acidente</th>\n",
              "      <th>situacao</th>\n",
              "      <th>bairro</th>\n",
              "      <th>endereco</th>\n",
              "      <th>numero</th>\n",
              "      <th>detalhe_endereco_acidente</th>\n",
              "      <th>complemento</th>\n",
              "      <th>tipo</th>\n",
              "      <th>auto</th>\n",
              "      <th>moto</th>\n",
              "      <th>ciclom</th>\n",
              "      <th>ciclista</th>\n",
              "      <th>pedestre</th>\n",
              "      <th>onibus</th>\n",
              "      <th>caminhao</th>\n",
              "      <th>viatura</th>\n",
              "      <th>outros</th>\n",
              "      <th>vitimas</th>\n",
              "      <th>vitimasfatais</th>\n",
              "    </tr>\n",
              "  </thead>\n",
              "  <tbody>\n",
              "    <tr>\n",
              "      <th>0</th>\n",
              "      <td>2017-01-01</td>\n",
              "      <td>02:55:00</td>\n",
              "      <td>SEM VÍTIMA</td>\n",
              "      <td>CANCELADA</td>\n",
              "      <td>CABANGA</td>\n",
              "      <td>AV SUL</td>\n",
              "      <td>NaN</td>\n",
              "      <td>NaN</td>\n",
              "      <td>SEMAFORO 260</td>\n",
              "      <td>COLISÃO</td>\n",
              "      <td>1.0</td>\n",
              "      <td>NaN</td>\n",
              "      <td>NaN</td>\n",
              "      <td>NaN</td>\n",
              "      <td>NaN</td>\n",
              "      <td>1.0</td>\n",
              "      <td>NaN</td>\n",
              "      <td>NaN</td>\n",
              "      <td>NaN</td>\n",
              "      <td>0.0</td>\n",
              "      <td>NaN</td>\n",
              "    </tr>\n",
              "    <tr>\n",
              "      <th>1</th>\n",
              "      <td>2017-01-01</td>\n",
              "      <td>05:32:00</td>\n",
              "      <td>SEM VÍTIMA</td>\n",
              "      <td>FINALIZADA</td>\n",
              "      <td>SANTO AMARO</td>\n",
              "      <td>RUA BARROS BARRETO</td>\n",
              "      <td>483</td>\n",
              "      <td>NaN</td>\n",
              "      <td>PROX DO COLEGIO ESTACIO COIMBRA</td>\n",
              "      <td>CAPOTAMENTO</td>\n",
              "      <td>3.0</td>\n",
              "      <td>NaN</td>\n",
              "      <td>NaN</td>\n",
              "      <td>NaN</td>\n",
              "      <td>NaN</td>\n",
              "      <td>NaN</td>\n",
              "      <td>NaN</td>\n",
              "      <td>NaN</td>\n",
              "      <td>NaN</td>\n",
              "      <td>0.0</td>\n",
              "      <td>NaN</td>\n",
              "    </tr>\n",
              "    <tr>\n",
              "      <th>2</th>\n",
              "      <td>2017-01-01</td>\n",
              "      <td>06:00:00</td>\n",
              "      <td>SEM VÍTIMA</td>\n",
              "      <td>FINALIZADA</td>\n",
              "      <td>JARDIM SÃO PAULO</td>\n",
              "      <td>AV PIRACICABA</td>\n",
              "      <td>NaN</td>\n",
              "      <td>NaN</td>\n",
              "      <td>NO TERMINAL DOS ONIBUS JARDIM SAO PAULO PIRACICA</td>\n",
              "      <td>COLISÃO</td>\n",
              "      <td>1.0</td>\n",
              "      <td>NaN</td>\n",
              "      <td>NaN</td>\n",
              "      <td>NaN</td>\n",
              "      <td>NaN</td>\n",
              "      <td>1.0</td>\n",
              "      <td>NaN</td>\n",
              "      <td>NaN</td>\n",
              "      <td>NaN</td>\n",
              "      <td>0.0</td>\n",
              "      <td>NaN</td>\n",
              "    </tr>\n",
              "    <tr>\n",
              "      <th>3</th>\n",
              "      <td>2017-01-01</td>\n",
              "      <td>06:24:00</td>\n",
              "      <td>SEM VÍTIMA</td>\n",
              "      <td>FINALIZADA</td>\n",
              "      <td>JARDIM SÃO PAULO</td>\n",
              "      <td>AV SAO PAULO</td>\n",
              "      <td>474</td>\n",
              "      <td>NaN</td>\n",
              "      <td>EM FRENTE AO SHOPPING JARDIM</td>\n",
              "      <td>COLISÃO</td>\n",
              "      <td>2.0</td>\n",
              "      <td>NaN</td>\n",
              "      <td>NaN</td>\n",
              "      <td>NaN</td>\n",
              "      <td>NaN</td>\n",
              "      <td>NaN</td>\n",
              "      <td>NaN</td>\n",
              "      <td>NaN</td>\n",
              "      <td>NaN</td>\n",
              "      <td>0.0</td>\n",
              "      <td>NaN</td>\n",
              "    </tr>\n",
              "    <tr>\n",
              "      <th>4</th>\n",
              "      <td>2017-01-01</td>\n",
              "      <td>06:39:00</td>\n",
              "      <td>SEM VÍTIMA</td>\n",
              "      <td>PENDENTE</td>\n",
              "      <td>CAXANGÁ</td>\n",
              "      <td>AV CAXANGA</td>\n",
              "      <td>NaN</td>\n",
              "      <td>NaN</td>\n",
              "      <td>EM DA INTEGRAÇÃO DA CAXANGÁ</td>\n",
              "      <td>COLISÃO</td>\n",
              "      <td>NaN</td>\n",
              "      <td>1.0</td>\n",
              "      <td>NaN</td>\n",
              "      <td>NaN</td>\n",
              "      <td>NaN</td>\n",
              "      <td>NaN</td>\n",
              "      <td>NaN</td>\n",
              "      <td>NaN</td>\n",
              "      <td>NaN</td>\n",
              "      <td>0.0</td>\n",
              "      <td>NaN</td>\n",
              "    </tr>\n",
              "  </tbody>\n",
              "</table>\n",
              "</div>"
            ],
            "text/plain": [
              "        data      hora natureza_acidente  ... outros vitimas vitimasfatais\n",
              "0 2017-01-01  02:55:00        SEM VÍTIMA  ...    NaN     0.0           NaN\n",
              "1 2017-01-01  05:32:00        SEM VÍTIMA  ...    NaN     0.0           NaN\n",
              "2 2017-01-01  06:00:00        SEM VÍTIMA  ...    NaN     0.0           NaN\n",
              "3 2017-01-01  06:24:00        SEM VÍTIMA  ...    NaN     0.0           NaN\n",
              "4 2017-01-01  06:39:00        SEM VÍTIMA  ...    NaN     0.0           NaN\n",
              "\n",
              "[5 rows x 21 columns]"
            ]
          },
          "metadata": {
            "tags": []
          },
          "execution_count": 128
        }
      ]
    },
    {
      "cell_type": "code",
      "metadata": {
        "colab": {
          "base_uri": "https://localhost:8080/"
        },
        "id": "fo_vNgy4nT45",
        "outputId": "f126333f-622f-42af-a303-2c9620d450f5"
      },
      "source": [
        "# tamanho após a união das tabelas 2017, 2018, 2019 e 2020\n",
        "df.shape"
      ],
      "execution_count": null,
      "outputs": [
        {
          "output_type": "execute_result",
          "data": {
            "text/plain": [
              "(39323, 21)"
            ]
          },
          "metadata": {
            "tags": []
          },
          "execution_count": 84
        }
      ]
    },
    {
      "cell_type": "code",
      "metadata": {
        "colab": {
          "base_uri": "https://localhost:8080/"
        },
        "id": "0pb1X03DmS3L",
        "outputId": "3d5eb9d4-1663-4f62-a746-4fc9bd6ee648"
      },
      "source": [
        "# verificando os tipos das variáveis\n",
        "df.dtypes"
      ],
      "execution_count": null,
      "outputs": [
        {
          "output_type": "execute_result",
          "data": {
            "text/plain": [
              "data                         datetime64[ns]\n",
              "hora                                 object\n",
              "natureza_acidente                    object\n",
              "situacao                             object\n",
              "bairro                               object\n",
              "endereco                             object\n",
              "numero                               object\n",
              "detalhe_endereco_acidente            object\n",
              "complemento                          object\n",
              "tipo                                 object\n",
              "auto                                float64\n",
              "moto                                float64\n",
              "ciclom                              float64\n",
              "ciclista                            float64\n",
              "pedestre                            float64\n",
              "onibus                              float64\n",
              "caminhao                            float64\n",
              "viatura                             float64\n",
              "outros                              float64\n",
              "vitimas                             float64\n",
              "vitimasfatais                       float64\n",
              "dtype: object"
            ]
          },
          "metadata": {
            "tags": []
          },
          "execution_count": 85
        }
      ]
    },
    {
      "cell_type": "code",
      "metadata": {
        "id": "ez0is00ejJn2",
        "colab": {
          "base_uri": "https://localhost:8080/"
        },
        "outputId": "fd434b9e-4bed-46f4-a88d-411213dd72e9"
      },
      "source": [
        "# verificando os dados que são nulos\n",
        "df.isnull().sum().sort_values(ascending=False)"
      ],
      "execution_count": null,
      "outputs": [
        {
          "output_type": "execute_result",
          "data": {
            "text/plain": [
              "vitimasfatais                39212\n",
              "ciclom                       39118\n",
              "outros                       38849\n",
              "viatura                      38827\n",
              "ciclista                     38653\n",
              "pedestre                     38435\n",
              "caminhao                     35439\n",
              "onibus                       33493\n",
              "detalhe_endereco_acidente    31035\n",
              "moto                         29231\n",
              "numero                       20329\n",
              "auto                          3615\n",
              "complemento                   3421\n",
              "natureza_acidente              274\n",
              "bairro                         217\n",
              "vitimas                        111\n",
              "endereco                       101\n",
              "situacao                        52\n",
              "hora                            49\n",
              "tipo                             1\n",
              "data                             0\n",
              "dtype: int64"
            ]
          },
          "metadata": {
            "tags": []
          },
          "execution_count": 86
        }
      ]
    },
    {
      "cell_type": "markdown",
      "metadata": {
        "id": "LeK-qCo3l16M"
      },
      "source": [
        "LIMPANDO E ORGANIZANDO OS DADOS"
      ]
    },
    {
      "cell_type": "markdown",
      "metadata": {
        "id": "0rEpob-Po30a"
      },
      "source": [
        "Verificamos no nosso dataset que as variáveis hora, natureza_acidente, situacao, bairro , endereco e tipo são os mais importantes. Então vamos deletar os datos ausentes nestas features.\n",
        "\n",
        " \n"
      ]
    },
    {
      "cell_type": "code",
      "metadata": {
        "id": "gHkXQZCxo3Rt"
      },
      "source": [
        "df.dropna(subset=['tipo', 'hora', 'endereco', 'bairro', 'natureza_acidente', 'situacao'], inplace=True)"
      ],
      "execution_count": null,
      "outputs": []
    },
    {
      "cell_type": "code",
      "metadata": {
        "colab": {
          "base_uri": "https://localhost:8080/"
        },
        "id": "LF6kjrfAuIo5",
        "outputId": "13790855-88b7-42b6-af87-2cfb309a056b"
      },
      "source": [
        "df.isnull().sum().sort_values(ascending=False)\n",
        "\n"
      ],
      "execution_count": null,
      "outputs": [
        {
          "output_type": "execute_result",
          "data": {
            "text/plain": [
              "vitimasfatais                38532\n",
              "ciclom                       38442\n",
              "outros                       38175\n",
              "viatura                      38160\n",
              "ciclista                     37979\n",
              "pedestre                     37765\n",
              "caminhao                     34821\n",
              "onibus                       32938\n",
              "detalhe_endereco_acidente    30474\n",
              "moto                         28679\n",
              "numero                       19914\n",
              "auto                          3542\n",
              "complemento                   3344\n",
              "vitimas                         71\n",
              "tipo                             0\n",
              "endereco                         0\n",
              "bairro                           0\n",
              "situacao                         0\n",
              "natureza_acidente                0\n",
              "hora                             0\n",
              "data                             0\n",
              "dtype: int64"
            ]
          },
          "metadata": {
            "tags": []
          },
          "execution_count": 102
        }
      ]
    },
    {
      "cell_type": "markdown",
      "metadata": {
        "id": "FFRE7nDYvFHA"
      },
      "source": [
        "Para os demais dados que são do tipo float e possuem dados ausentes, será atribuido o valor de 0 "
      ]
    },
    {
      "cell_type": "code",
      "metadata": {
        "colab": {
          "base_uri": "https://localhost:8080/"
        },
        "id": "xDN8DAQ6vEGI",
        "outputId": "bde41b32-7437-414c-c518-1e8b5f69d530"
      },
      "source": [
        "df.fillna(0, inplace=True)\n",
        "df.isnull().sum().sort_values(ascending=False)"
      ],
      "execution_count": null,
      "outputs": [
        {
          "output_type": "execute_result",
          "data": {
            "text/plain": [
              "vitimasfatais                0\n",
              "tipo                         0\n",
              "hora                         0\n",
              "natureza_acidente            0\n",
              "situacao                     0\n",
              "bairro                       0\n",
              "endereco                     0\n",
              "numero                       0\n",
              "detalhe_endereco_acidente    0\n",
              "complemento                  0\n",
              "auto                         0\n",
              "vitimas                      0\n",
              "moto                         0\n",
              "ciclom                       0\n",
              "ciclista                     0\n",
              "pedestre                     0\n",
              "onibus                       0\n",
              "caminhao                     0\n",
              "viatura                      0\n",
              "outros                       0\n",
              "data                         0\n",
              "dtype: int64"
            ]
          },
          "metadata": {
            "tags": []
          },
          "execution_count": 104
        }
      ]
    },
    {
      "cell_type": "code",
      "metadata": {
        "colab": {
          "base_uri": "https://localhost:8080/"
        },
        "id": "FiAAA49-wO4o",
        "outputId": "66b14b04-8f5f-47f8-d824-5761f2088cee"
      },
      "source": [
        "df.shape"
      ],
      "execution_count": null,
      "outputs": [
        {
          "output_type": "execute_result",
          "data": {
            "text/plain": [
              "(38643, 21)"
            ]
          },
          "metadata": {
            "tags": []
          },
          "execution_count": 107
        }
      ]
    },
    {
      "cell_type": "code",
      "metadata": {
        "colab": {
          "base_uri": "https://localhost:8080/",
          "height": 469
        },
        "id": "7hXzVLtWoBsc",
        "outputId": "544984b9-816f-464d-b9fd-f90df91f3794"
      },
      "source": [
        "df.head()"
      ],
      "execution_count": null,
      "outputs": [
        {
          "output_type": "execute_result",
          "data": {
            "text/html": [
              "<div>\n",
              "<style scoped>\n",
              "    .dataframe tbody tr th:only-of-type {\n",
              "        vertical-align: middle;\n",
              "    }\n",
              "\n",
              "    .dataframe tbody tr th {\n",
              "        vertical-align: top;\n",
              "    }\n",
              "\n",
              "    .dataframe thead th {\n",
              "        text-align: right;\n",
              "    }\n",
              "</style>\n",
              "<table border=\"1\" class=\"dataframe\">\n",
              "  <thead>\n",
              "    <tr style=\"text-align: right;\">\n",
              "      <th></th>\n",
              "      <th>data</th>\n",
              "      <th>hora</th>\n",
              "      <th>natureza_acidente</th>\n",
              "      <th>situacao</th>\n",
              "      <th>bairro</th>\n",
              "      <th>endereco</th>\n",
              "      <th>numero</th>\n",
              "      <th>detalhe_endereco_acidente</th>\n",
              "      <th>complemento</th>\n",
              "      <th>tipo</th>\n",
              "      <th>auto</th>\n",
              "      <th>moto</th>\n",
              "      <th>ciclom</th>\n",
              "      <th>ciclista</th>\n",
              "      <th>pedestre</th>\n",
              "      <th>onibus</th>\n",
              "      <th>caminhao</th>\n",
              "      <th>viatura</th>\n",
              "      <th>outros</th>\n",
              "      <th>vitimas</th>\n",
              "      <th>vitimasfatais</th>\n",
              "      <th>ano</th>\n",
              "    </tr>\n",
              "  </thead>\n",
              "  <tbody>\n",
              "    <tr>\n",
              "      <th>0</th>\n",
              "      <td>2017-01-01</td>\n",
              "      <td>02:55:00</td>\n",
              "      <td>SEM VÍTIMA</td>\n",
              "      <td>CANCELADA</td>\n",
              "      <td>CABANGA</td>\n",
              "      <td>AV SUL</td>\n",
              "      <td>0</td>\n",
              "      <td>0</td>\n",
              "      <td>SEMAFORO 260</td>\n",
              "      <td>COLISÃO</td>\n",
              "      <td>1.0</td>\n",
              "      <td>0.0</td>\n",
              "      <td>0.0</td>\n",
              "      <td>0.0</td>\n",
              "      <td>0.0</td>\n",
              "      <td>1.0</td>\n",
              "      <td>0.0</td>\n",
              "      <td>0.0</td>\n",
              "      <td>0.0</td>\n",
              "      <td>0.0</td>\n",
              "      <td>0.0</td>\n",
              "      <td>2017</td>\n",
              "    </tr>\n",
              "    <tr>\n",
              "      <th>1</th>\n",
              "      <td>2017-01-01</td>\n",
              "      <td>05:32:00</td>\n",
              "      <td>SEM VÍTIMA</td>\n",
              "      <td>FINALIZADA</td>\n",
              "      <td>SANTO AMARO</td>\n",
              "      <td>RUA BARROS BARRETO</td>\n",
              "      <td>483</td>\n",
              "      <td>0</td>\n",
              "      <td>PROX DO COLEGIO ESTACIO COIMBRA</td>\n",
              "      <td>CAPOTAMENTO</td>\n",
              "      <td>3.0</td>\n",
              "      <td>0.0</td>\n",
              "      <td>0.0</td>\n",
              "      <td>0.0</td>\n",
              "      <td>0.0</td>\n",
              "      <td>0.0</td>\n",
              "      <td>0.0</td>\n",
              "      <td>0.0</td>\n",
              "      <td>0.0</td>\n",
              "      <td>0.0</td>\n",
              "      <td>0.0</td>\n",
              "      <td>2017</td>\n",
              "    </tr>\n",
              "    <tr>\n",
              "      <th>2</th>\n",
              "      <td>2017-01-01</td>\n",
              "      <td>06:00:00</td>\n",
              "      <td>SEM VÍTIMA</td>\n",
              "      <td>FINALIZADA</td>\n",
              "      <td>JARDIM SÃO PAULO</td>\n",
              "      <td>AV PIRACICABA</td>\n",
              "      <td>0</td>\n",
              "      <td>0</td>\n",
              "      <td>NO TERMINAL DOS ONIBUS JARDIM SAO PAULO PIRACICA</td>\n",
              "      <td>COLISÃO</td>\n",
              "      <td>1.0</td>\n",
              "      <td>0.0</td>\n",
              "      <td>0.0</td>\n",
              "      <td>0.0</td>\n",
              "      <td>0.0</td>\n",
              "      <td>1.0</td>\n",
              "      <td>0.0</td>\n",
              "      <td>0.0</td>\n",
              "      <td>0.0</td>\n",
              "      <td>0.0</td>\n",
              "      <td>0.0</td>\n",
              "      <td>2017</td>\n",
              "    </tr>\n",
              "    <tr>\n",
              "      <th>3</th>\n",
              "      <td>2017-01-01</td>\n",
              "      <td>06:24:00</td>\n",
              "      <td>SEM VÍTIMA</td>\n",
              "      <td>FINALIZADA</td>\n",
              "      <td>JARDIM SÃO PAULO</td>\n",
              "      <td>AV SAO PAULO</td>\n",
              "      <td>474</td>\n",
              "      <td>0</td>\n",
              "      <td>EM FRENTE AO SHOPPING JARDIM</td>\n",
              "      <td>COLISÃO</td>\n",
              "      <td>2.0</td>\n",
              "      <td>0.0</td>\n",
              "      <td>0.0</td>\n",
              "      <td>0.0</td>\n",
              "      <td>0.0</td>\n",
              "      <td>0.0</td>\n",
              "      <td>0.0</td>\n",
              "      <td>0.0</td>\n",
              "      <td>0.0</td>\n",
              "      <td>0.0</td>\n",
              "      <td>0.0</td>\n",
              "      <td>2017</td>\n",
              "    </tr>\n",
              "    <tr>\n",
              "      <th>4</th>\n",
              "      <td>2017-01-01</td>\n",
              "      <td>06:39:00</td>\n",
              "      <td>SEM VÍTIMA</td>\n",
              "      <td>PENDENTE</td>\n",
              "      <td>CAXANGÁ</td>\n",
              "      <td>AV CAXANGA</td>\n",
              "      <td>0</td>\n",
              "      <td>0</td>\n",
              "      <td>EM DA INTEGRAÇÃO DA CAXANGÁ</td>\n",
              "      <td>COLISÃO</td>\n",
              "      <td>0.0</td>\n",
              "      <td>1.0</td>\n",
              "      <td>0.0</td>\n",
              "      <td>0.0</td>\n",
              "      <td>0.0</td>\n",
              "      <td>0.0</td>\n",
              "      <td>0.0</td>\n",
              "      <td>0.0</td>\n",
              "      <td>0.0</td>\n",
              "      <td>0.0</td>\n",
              "      <td>0.0</td>\n",
              "      <td>2017</td>\n",
              "    </tr>\n",
              "  </tbody>\n",
              "</table>\n",
              "</div>"
            ],
            "text/plain": [
              "        data      hora natureza_acidente  ... vitimas vitimasfatais   ano\n",
              "0 2017-01-01  02:55:00        SEM VÍTIMA  ...     0.0           0.0  2017\n",
              "1 2017-01-01  05:32:00        SEM VÍTIMA  ...     0.0           0.0  2017\n",
              "2 2017-01-01  06:00:00        SEM VÍTIMA  ...     0.0           0.0  2017\n",
              "3 2017-01-01  06:24:00        SEM VÍTIMA  ...     0.0           0.0  2017\n",
              "4 2017-01-01  06:39:00        SEM VÍTIMA  ...     0.0           0.0  2017\n",
              "\n",
              "[5 rows x 22 columns]"
            ]
          },
          "metadata": {
            "tags": []
          },
          "execution_count": 118
        }
      ]
    },
    {
      "cell_type": "code",
      "metadata": {
        "colab": {
          "base_uri": "https://localhost:8080/"
        },
        "id": "FsF4pgW2oW9C",
        "outputId": "c77bf6ed-18d5-4eae-974a-8783ddc82683"
      },
      "source": [
        "df['vitimas'].sum()"
      ],
      "execution_count": null,
      "outputs": [
        {
          "output_type": "execute_result",
          "data": {
            "text/plain": [
              "9614.0"
            ]
          },
          "metadata": {
            "tags": []
          },
          "execution_count": 108
        }
      ]
    },
    {
      "cell_type": "code",
      "metadata": {
        "colab": {
          "base_uri": "https://localhost:8080/"
        },
        "id": "E01doU5ExP0P",
        "outputId": "a262204e-1775-4edd-f0ef-1458c10083f8"
      },
      "source": [
        "df['vitimasfatais'].sum()"
      ],
      "execution_count": null,
      "outputs": [
        {
          "output_type": "execute_result",
          "data": {
            "text/plain": [
              "111.0"
            ]
          },
          "metadata": {
            "tags": []
          },
          "execution_count": 109
        }
      ]
    },
    {
      "cell_type": "code",
      "metadata": {
        "id": "BdcJPTIows3x"
      },
      "source": [
        ""
      ],
      "execution_count": null,
      "outputs": []
    },
    {
      "cell_type": "markdown",
      "metadata": {
        "id": "aTyN5_9ezXAS"
      },
      "source": [
        "O dia pode ser dividido em 3 ou 4 períodos, tal como manhã, tarde e noite (8 horas cada um), pelos turnos matutino, diurno, vespertino e noturno ou então por manhã, tarde, noite e madrugada.\n",
        "\n",
        "A divisão em 3 períodos é informal, sendo a única formal a de quatro períodos, onde o turno Matutino ou Manhã vai das seis da manhã até às 11:49, o período Vespertino ou Tarde começa ao meio dia e vai até às 18:59.\n",
        "\n",
        "Ao dividir o dia nesses quatro períodos, o período Noturno ou Noite começa às sete da noite e vai até às 23:59, enquanto que a madrugada dura de meia noite até às 05:59.\n",
        "manha = 06:00 as 11:59 \n",
        "tarde = 12:00 as 18:59\n",
        "noite = 19:00 as 23:59\n",
        "madrugada = 00:00 as 05:59"
      ]
    },
    {
      "cell_type": "markdown",
      "metadata": {
        "id": "jcw3hrzu0bPH"
      },
      "source": [
        ">>> criar uma coluna com o ano e uma coluna com o horário"
      ]
    },
    {
      "cell_type": "code",
      "metadata": {
        "colab": {
          "base_uri": "https://localhost:8080/",
          "height": 469
        },
        "id": "z_P0-IpWAMar",
        "outputId": "d4d05652-efe0-4b59-cf66-5c1106d3f49d"
      },
      "source": [
        "df['ano'] = df['data'].apply(lambda x: str(x)[:4])\n",
        "df['periodo'] = df['hora'].apply(lambda x: str(x)[:2])\n",
        "                                                         \n",
        "df.head()"
      ],
      "execution_count": null,
      "outputs": [
        {
          "output_type": "execute_result",
          "data": {
            "text/html": [
              "<div>\n",
              "<style scoped>\n",
              "    .dataframe tbody tr th:only-of-type {\n",
              "        vertical-align: middle;\n",
              "    }\n",
              "\n",
              "    .dataframe tbody tr th {\n",
              "        vertical-align: top;\n",
              "    }\n",
              "\n",
              "    .dataframe thead th {\n",
              "        text-align: right;\n",
              "    }\n",
              "</style>\n",
              "<table border=\"1\" class=\"dataframe\">\n",
              "  <thead>\n",
              "    <tr style=\"text-align: right;\">\n",
              "      <th></th>\n",
              "      <th>data</th>\n",
              "      <th>hora</th>\n",
              "      <th>natureza_acidente</th>\n",
              "      <th>situacao</th>\n",
              "      <th>bairro</th>\n",
              "      <th>endereco</th>\n",
              "      <th>numero</th>\n",
              "      <th>detalhe_endereco_acidente</th>\n",
              "      <th>complemento</th>\n",
              "      <th>tipo</th>\n",
              "      <th>auto</th>\n",
              "      <th>moto</th>\n",
              "      <th>ciclom</th>\n",
              "      <th>ciclista</th>\n",
              "      <th>pedestre</th>\n",
              "      <th>onibus</th>\n",
              "      <th>caminhao</th>\n",
              "      <th>viatura</th>\n",
              "      <th>outros</th>\n",
              "      <th>vitimas</th>\n",
              "      <th>vitimasfatais</th>\n",
              "      <th>ano</th>\n",
              "      <th>periodo</th>\n",
              "    </tr>\n",
              "  </thead>\n",
              "  <tbody>\n",
              "    <tr>\n",
              "      <th>0</th>\n",
              "      <td>2017-01-01</td>\n",
              "      <td>02:55:00</td>\n",
              "      <td>SEM VÍTIMA</td>\n",
              "      <td>CANCELADA</td>\n",
              "      <td>CABANGA</td>\n",
              "      <td>AV SUL</td>\n",
              "      <td>NaN</td>\n",
              "      <td>NaN</td>\n",
              "      <td>SEMAFORO 260</td>\n",
              "      <td>COLISÃO</td>\n",
              "      <td>1.0</td>\n",
              "      <td>NaN</td>\n",
              "      <td>NaN</td>\n",
              "      <td>NaN</td>\n",
              "      <td>NaN</td>\n",
              "      <td>1.0</td>\n",
              "      <td>NaN</td>\n",
              "      <td>NaN</td>\n",
              "      <td>NaN</td>\n",
              "      <td>0.0</td>\n",
              "      <td>NaN</td>\n",
              "      <td>2017</td>\n",
              "      <td>02</td>\n",
              "    </tr>\n",
              "    <tr>\n",
              "      <th>1</th>\n",
              "      <td>2017-01-01</td>\n",
              "      <td>05:32:00</td>\n",
              "      <td>SEM VÍTIMA</td>\n",
              "      <td>FINALIZADA</td>\n",
              "      <td>SANTO AMARO</td>\n",
              "      <td>RUA BARROS BARRETO</td>\n",
              "      <td>483</td>\n",
              "      <td>NaN</td>\n",
              "      <td>PROX DO COLEGIO ESTACIO COIMBRA</td>\n",
              "      <td>CAPOTAMENTO</td>\n",
              "      <td>3.0</td>\n",
              "      <td>NaN</td>\n",
              "      <td>NaN</td>\n",
              "      <td>NaN</td>\n",
              "      <td>NaN</td>\n",
              "      <td>NaN</td>\n",
              "      <td>NaN</td>\n",
              "      <td>NaN</td>\n",
              "      <td>NaN</td>\n",
              "      <td>0.0</td>\n",
              "      <td>NaN</td>\n",
              "      <td>2017</td>\n",
              "      <td>05</td>\n",
              "    </tr>\n",
              "    <tr>\n",
              "      <th>2</th>\n",
              "      <td>2017-01-01</td>\n",
              "      <td>06:00:00</td>\n",
              "      <td>SEM VÍTIMA</td>\n",
              "      <td>FINALIZADA</td>\n",
              "      <td>JARDIM SÃO PAULO</td>\n",
              "      <td>AV PIRACICABA</td>\n",
              "      <td>NaN</td>\n",
              "      <td>NaN</td>\n",
              "      <td>NO TERMINAL DOS ONIBUS JARDIM SAO PAULO PIRACICA</td>\n",
              "      <td>COLISÃO</td>\n",
              "      <td>1.0</td>\n",
              "      <td>NaN</td>\n",
              "      <td>NaN</td>\n",
              "      <td>NaN</td>\n",
              "      <td>NaN</td>\n",
              "      <td>1.0</td>\n",
              "      <td>NaN</td>\n",
              "      <td>NaN</td>\n",
              "      <td>NaN</td>\n",
              "      <td>0.0</td>\n",
              "      <td>NaN</td>\n",
              "      <td>2017</td>\n",
              "      <td>06</td>\n",
              "    </tr>\n",
              "    <tr>\n",
              "      <th>3</th>\n",
              "      <td>2017-01-01</td>\n",
              "      <td>06:24:00</td>\n",
              "      <td>SEM VÍTIMA</td>\n",
              "      <td>FINALIZADA</td>\n",
              "      <td>JARDIM SÃO PAULO</td>\n",
              "      <td>AV SAO PAULO</td>\n",
              "      <td>474</td>\n",
              "      <td>NaN</td>\n",
              "      <td>EM FRENTE AO SHOPPING JARDIM</td>\n",
              "      <td>COLISÃO</td>\n",
              "      <td>2.0</td>\n",
              "      <td>NaN</td>\n",
              "      <td>NaN</td>\n",
              "      <td>NaN</td>\n",
              "      <td>NaN</td>\n",
              "      <td>NaN</td>\n",
              "      <td>NaN</td>\n",
              "      <td>NaN</td>\n",
              "      <td>NaN</td>\n",
              "      <td>0.0</td>\n",
              "      <td>NaN</td>\n",
              "      <td>2017</td>\n",
              "      <td>06</td>\n",
              "    </tr>\n",
              "    <tr>\n",
              "      <th>4</th>\n",
              "      <td>2017-01-01</td>\n",
              "      <td>06:39:00</td>\n",
              "      <td>SEM VÍTIMA</td>\n",
              "      <td>PENDENTE</td>\n",
              "      <td>CAXANGÁ</td>\n",
              "      <td>AV CAXANGA</td>\n",
              "      <td>NaN</td>\n",
              "      <td>NaN</td>\n",
              "      <td>EM DA INTEGRAÇÃO DA CAXANGÁ</td>\n",
              "      <td>COLISÃO</td>\n",
              "      <td>NaN</td>\n",
              "      <td>1.0</td>\n",
              "      <td>NaN</td>\n",
              "      <td>NaN</td>\n",
              "      <td>NaN</td>\n",
              "      <td>NaN</td>\n",
              "      <td>NaN</td>\n",
              "      <td>NaN</td>\n",
              "      <td>NaN</td>\n",
              "      <td>0.0</td>\n",
              "      <td>NaN</td>\n",
              "      <td>2017</td>\n",
              "      <td>06</td>\n",
              "    </tr>\n",
              "  </tbody>\n",
              "</table>\n",
              "</div>"
            ],
            "text/plain": [
              "        data      hora natureza_acidente  ... vitimasfatais   ano periodo\n",
              "0 2017-01-01  02:55:00        SEM VÍTIMA  ...           NaN  2017      02\n",
              "1 2017-01-01  05:32:00        SEM VÍTIMA  ...           NaN  2017      05\n",
              "2 2017-01-01  06:00:00        SEM VÍTIMA  ...           NaN  2017      06\n",
              "3 2017-01-01  06:24:00        SEM VÍTIMA  ...           NaN  2017      06\n",
              "4 2017-01-01  06:39:00        SEM VÍTIMA  ...           NaN  2017      06\n",
              "\n",
              "[5 rows x 23 columns]"
            ]
          },
          "metadata": {
            "tags": []
          },
          "execution_count": 181
        }
      ]
    },
    {
      "cell_type": "code",
      "metadata": {
        "colab": {
          "base_uri": "https://localhost:8080/",
          "height": 435
        },
        "id": "ecNcxNbm0hXe",
        "outputId": "addc30af-b21f-49b0-8a41-1b90fd9bd832"
      },
      "source": [
        "\n",
        "df['ano'] = df['data'].apply(lambda x: str(x)[:4])\n",
        "if  df['hora'].apply(lambda x: str(x)[:2])                                                                \n",
        "    df['periodo'] = \"MANHA\"\n",
        "if df['hora'] >= '12:00:00' and df['hora'] <= '18:59:59':                                                                 \n",
        "    df['periodo'] = \"TARDE\"\n",
        "elif df['hora'] >= '19:00:00' and df['hora'] <= '23:59:59':                                                                 \n",
        "    df['periodo'] = \"NOITE\"       \n",
        "else:\n",
        "    df['periodo'] = 'MADRUGADA'                                                           \n",
        "df.head()"
      ],
      "execution_count": null,
      "outputs": [
        {
          "output_type": "error",
          "ename": "TypeError",
          "evalue": "ignored",
          "traceback": [
            "\u001b[0;31m---------------------------------------------------------------------------\u001b[0m",
            "\u001b[0;31mTypeError\u001b[0m                                 Traceback (most recent call last)",
            "\u001b[0;32m<ipython-input-177-165b49ceb8da>\u001b[0m in \u001b[0;36m<module>\u001b[0;34m()\u001b[0m\n\u001b[1;32m      1\u001b[0m \u001b[0;34m\u001b[0m\u001b[0m\n\u001b[1;32m      2\u001b[0m \u001b[0mdf\u001b[0m\u001b[0;34m[\u001b[0m\u001b[0;34m'ano'\u001b[0m\u001b[0;34m]\u001b[0m \u001b[0;34m=\u001b[0m \u001b[0mdf\u001b[0m\u001b[0;34m[\u001b[0m\u001b[0;34m'data'\u001b[0m\u001b[0;34m]\u001b[0m\u001b[0;34m.\u001b[0m\u001b[0mapply\u001b[0m\u001b[0;34m(\u001b[0m\u001b[0;32mlambda\u001b[0m \u001b[0mx\u001b[0m\u001b[0;34m:\u001b[0m \u001b[0mstr\u001b[0m\u001b[0;34m(\u001b[0m\u001b[0mx\u001b[0m\u001b[0;34m)\u001b[0m\u001b[0;34m[\u001b[0m\u001b[0;34m:\u001b[0m\u001b[0;36m4\u001b[0m\u001b[0;34m]\u001b[0m\u001b[0;34m)\u001b[0m\u001b[0;34m\u001b[0m\u001b[0;34m\u001b[0m\u001b[0m\n\u001b[0;32m----> 3\u001b[0;31m \u001b[0;32mif\u001b[0m  \u001b[0mdf\u001b[0m\u001b[0;34m[\u001b[0m\u001b[0;34m'hora'\u001b[0m\u001b[0;34m]\u001b[0m\u001b[0;34m.\u001b[0m\u001b[0mapply\u001b[0m\u001b[0;34m(\u001b[0m\u001b[0;32mlambda\u001b[0m \u001b[0mx\u001b[0m\u001b[0;34m:\u001b[0m \u001b[0mstr\u001b[0m\u001b[0;34m(\u001b[0m\u001b[0mx\u001b[0m\u001b[0;34m)\u001b[0m\u001b[0;34m[\u001b[0m\u001b[0;34m:\u001b[0m\u001b[0;36m2\u001b[0m\u001b[0;34m]\u001b[0m\u001b[0;34m)\u001b[0m \u001b[0;34m>\u001b[0m \u001b[0;36m6\u001b[0m\u001b[0;34m:\u001b[0m\u001b[0;34m\u001b[0m\u001b[0;34m\u001b[0m\u001b[0m\n\u001b[0m\u001b[1;32m      4\u001b[0m     \u001b[0mdf\u001b[0m\u001b[0;34m[\u001b[0m\u001b[0;34m'periodo'\u001b[0m\u001b[0;34m]\u001b[0m \u001b[0;34m=\u001b[0m \u001b[0;34m\"MANHA\"\u001b[0m\u001b[0;34m\u001b[0m\u001b[0;34m\u001b[0m\u001b[0m\n\u001b[1;32m      5\u001b[0m \u001b[0;32mif\u001b[0m \u001b[0mdf\u001b[0m\u001b[0;34m[\u001b[0m\u001b[0;34m'hora'\u001b[0m\u001b[0;34m]\u001b[0m \u001b[0;34m>=\u001b[0m \u001b[0;34m'12:00:00'\u001b[0m \u001b[0;32mand\u001b[0m \u001b[0mdf\u001b[0m\u001b[0;34m[\u001b[0m\u001b[0;34m'hora'\u001b[0m\u001b[0;34m]\u001b[0m \u001b[0;34m<=\u001b[0m \u001b[0;34m'18:59:59'\u001b[0m\u001b[0;34m:\u001b[0m\u001b[0;34m\u001b[0m\u001b[0;34m\u001b[0m\u001b[0m\n",
            "\u001b[0;32m/usr/local/lib/python3.7/dist-packages/pandas/core/ops/common.py\u001b[0m in \u001b[0;36mnew_method\u001b[0;34m(self, other)\u001b[0m\n\u001b[1;32m     63\u001b[0m         \u001b[0mother\u001b[0m \u001b[0;34m=\u001b[0m \u001b[0mitem_from_zerodim\u001b[0m\u001b[0;34m(\u001b[0m\u001b[0mother\u001b[0m\u001b[0;34m)\u001b[0m\u001b[0;34m\u001b[0m\u001b[0;34m\u001b[0m\u001b[0m\n\u001b[1;32m     64\u001b[0m \u001b[0;34m\u001b[0m\u001b[0m\n\u001b[0;32m---> 65\u001b[0;31m         \u001b[0;32mreturn\u001b[0m \u001b[0mmethod\u001b[0m\u001b[0;34m(\u001b[0m\u001b[0mself\u001b[0m\u001b[0;34m,\u001b[0m \u001b[0mother\u001b[0m\u001b[0;34m)\u001b[0m\u001b[0;34m\u001b[0m\u001b[0;34m\u001b[0m\u001b[0m\n\u001b[0m\u001b[1;32m     66\u001b[0m \u001b[0;34m\u001b[0m\u001b[0m\n\u001b[1;32m     67\u001b[0m     \u001b[0;32mreturn\u001b[0m \u001b[0mnew_method\u001b[0m\u001b[0;34m\u001b[0m\u001b[0;34m\u001b[0m\u001b[0m\n",
            "\u001b[0;32m/usr/local/lib/python3.7/dist-packages/pandas/core/ops/__init__.py\u001b[0m in \u001b[0;36mwrapper\u001b[0;34m(self, other)\u001b[0m\n\u001b[1;32m    368\u001b[0m         \u001b[0mrvalues\u001b[0m \u001b[0;34m=\u001b[0m \u001b[0mextract_array\u001b[0m\u001b[0;34m(\u001b[0m\u001b[0mother\u001b[0m\u001b[0;34m,\u001b[0m \u001b[0mextract_numpy\u001b[0m\u001b[0;34m=\u001b[0m\u001b[0;32mTrue\u001b[0m\u001b[0;34m)\u001b[0m\u001b[0;34m\u001b[0m\u001b[0;34m\u001b[0m\u001b[0m\n\u001b[1;32m    369\u001b[0m \u001b[0;34m\u001b[0m\u001b[0m\n\u001b[0;32m--> 370\u001b[0;31m         \u001b[0mres_values\u001b[0m \u001b[0;34m=\u001b[0m \u001b[0mcomparison_op\u001b[0m\u001b[0;34m(\u001b[0m\u001b[0mlvalues\u001b[0m\u001b[0;34m,\u001b[0m \u001b[0mrvalues\u001b[0m\u001b[0;34m,\u001b[0m \u001b[0mop\u001b[0m\u001b[0;34m)\u001b[0m\u001b[0;34m\u001b[0m\u001b[0;34m\u001b[0m\u001b[0m\n\u001b[0m\u001b[1;32m    371\u001b[0m \u001b[0;34m\u001b[0m\u001b[0m\n\u001b[1;32m    372\u001b[0m         \u001b[0;32mreturn\u001b[0m \u001b[0mself\u001b[0m\u001b[0;34m.\u001b[0m\u001b[0m_construct_result\u001b[0m\u001b[0;34m(\u001b[0m\u001b[0mres_values\u001b[0m\u001b[0;34m,\u001b[0m \u001b[0mname\u001b[0m\u001b[0;34m=\u001b[0m\u001b[0mres_name\u001b[0m\u001b[0;34m)\u001b[0m\u001b[0;34m\u001b[0m\u001b[0;34m\u001b[0m\u001b[0m\n",
            "\u001b[0;32m/usr/local/lib/python3.7/dist-packages/pandas/core/ops/array_ops.py\u001b[0m in \u001b[0;36mcomparison_op\u001b[0;34m(left, right, op)\u001b[0m\n\u001b[1;32m    242\u001b[0m \u001b[0;34m\u001b[0m\u001b[0m\n\u001b[1;32m    243\u001b[0m     \u001b[0;32melif\u001b[0m \u001b[0mis_object_dtype\u001b[0m\u001b[0;34m(\u001b[0m\u001b[0mlvalues\u001b[0m\u001b[0;34m.\u001b[0m\u001b[0mdtype\u001b[0m\u001b[0;34m)\u001b[0m\u001b[0;34m:\u001b[0m\u001b[0;34m\u001b[0m\u001b[0;34m\u001b[0m\u001b[0m\n\u001b[0;32m--> 244\u001b[0;31m         \u001b[0mres_values\u001b[0m \u001b[0;34m=\u001b[0m \u001b[0mcomp_method_OBJECT_ARRAY\u001b[0m\u001b[0;34m(\u001b[0m\u001b[0mop\u001b[0m\u001b[0;34m,\u001b[0m \u001b[0mlvalues\u001b[0m\u001b[0;34m,\u001b[0m \u001b[0mrvalues\u001b[0m\u001b[0;34m)\u001b[0m\u001b[0;34m\u001b[0m\u001b[0;34m\u001b[0m\u001b[0m\n\u001b[0m\u001b[1;32m    245\u001b[0m \u001b[0;34m\u001b[0m\u001b[0m\n\u001b[1;32m    246\u001b[0m     \u001b[0;32melse\u001b[0m\u001b[0;34m:\u001b[0m\u001b[0;34m\u001b[0m\u001b[0;34m\u001b[0m\u001b[0m\n",
            "\u001b[0;32m/usr/local/lib/python3.7/dist-packages/pandas/core/ops/array_ops.py\u001b[0m in \u001b[0;36mcomp_method_OBJECT_ARRAY\u001b[0;34m(op, x, y)\u001b[0m\n\u001b[1;32m     54\u001b[0m         \u001b[0mresult\u001b[0m \u001b[0;34m=\u001b[0m \u001b[0mlibops\u001b[0m\u001b[0;34m.\u001b[0m\u001b[0mvec_compare\u001b[0m\u001b[0;34m(\u001b[0m\u001b[0mx\u001b[0m\u001b[0;34m.\u001b[0m\u001b[0mravel\u001b[0m\u001b[0;34m(\u001b[0m\u001b[0;34m)\u001b[0m\u001b[0;34m,\u001b[0m \u001b[0my\u001b[0m\u001b[0;34m.\u001b[0m\u001b[0mravel\u001b[0m\u001b[0;34m(\u001b[0m\u001b[0;34m)\u001b[0m\u001b[0;34m,\u001b[0m \u001b[0mop\u001b[0m\u001b[0;34m)\u001b[0m\u001b[0;34m\u001b[0m\u001b[0;34m\u001b[0m\u001b[0m\n\u001b[1;32m     55\u001b[0m     \u001b[0;32melse\u001b[0m\u001b[0;34m:\u001b[0m\u001b[0;34m\u001b[0m\u001b[0;34m\u001b[0m\u001b[0m\n\u001b[0;32m---> 56\u001b[0;31m         \u001b[0mresult\u001b[0m \u001b[0;34m=\u001b[0m \u001b[0mlibops\u001b[0m\u001b[0;34m.\u001b[0m\u001b[0mscalar_compare\u001b[0m\u001b[0;34m(\u001b[0m\u001b[0mx\u001b[0m\u001b[0;34m.\u001b[0m\u001b[0mravel\u001b[0m\u001b[0;34m(\u001b[0m\u001b[0;34m)\u001b[0m\u001b[0;34m,\u001b[0m \u001b[0my\u001b[0m\u001b[0;34m,\u001b[0m \u001b[0mop\u001b[0m\u001b[0;34m)\u001b[0m\u001b[0;34m\u001b[0m\u001b[0;34m\u001b[0m\u001b[0m\n\u001b[0m\u001b[1;32m     57\u001b[0m     \u001b[0;32mreturn\u001b[0m \u001b[0mresult\u001b[0m\u001b[0;34m.\u001b[0m\u001b[0mreshape\u001b[0m\u001b[0;34m(\u001b[0m\u001b[0mx\u001b[0m\u001b[0;34m.\u001b[0m\u001b[0mshape\u001b[0m\u001b[0;34m)\u001b[0m\u001b[0;34m\u001b[0m\u001b[0;34m\u001b[0m\u001b[0m\n\u001b[1;32m     58\u001b[0m \u001b[0;34m\u001b[0m\u001b[0m\n",
            "\u001b[0;32mpandas/_libs/ops.pyx\u001b[0m in \u001b[0;36mpandas._libs.ops.scalar_compare\u001b[0;34m()\u001b[0m\n",
            "\u001b[0;31mTypeError\u001b[0m: '>' not supported between instances of 'str' and 'int'"
          ]
        }
      ]
    },
    {
      "cell_type": "code",
      "metadata": {
        "colab": {
          "base_uri": "https://localhost:8080/",
          "height": 455
        },
        "id": "Wjm-FpDx1hZX",
        "outputId": "7cb65c19-2a38-4f66-eb39-987aeb82cdf6"
      },
      "source": [
        "df.groupby(by='bairro').sum()"
      ],
      "execution_count": null,
      "outputs": [
        {
          "output_type": "execute_result",
          "data": {
            "text/html": [
              "<div>\n",
              "<style scoped>\n",
              "    .dataframe tbody tr th:only-of-type {\n",
              "        vertical-align: middle;\n",
              "    }\n",
              "\n",
              "    .dataframe tbody tr th {\n",
              "        vertical-align: top;\n",
              "    }\n",
              "\n",
              "    .dataframe thead th {\n",
              "        text-align: right;\n",
              "    }\n",
              "</style>\n",
              "<table border=\"1\" class=\"dataframe\">\n",
              "  <thead>\n",
              "    <tr style=\"text-align: right;\">\n",
              "      <th></th>\n",
              "      <th>auto</th>\n",
              "      <th>moto</th>\n",
              "      <th>ciclom</th>\n",
              "      <th>ciclista</th>\n",
              "      <th>pedestre</th>\n",
              "      <th>onibus</th>\n",
              "      <th>caminhao</th>\n",
              "      <th>viatura</th>\n",
              "      <th>outros</th>\n",
              "      <th>vitimas</th>\n",
              "      <th>vitimasfatais</th>\n",
              "    </tr>\n",
              "    <tr>\n",
              "      <th>bairro</th>\n",
              "      <th></th>\n",
              "      <th></th>\n",
              "      <th></th>\n",
              "      <th></th>\n",
              "      <th></th>\n",
              "      <th></th>\n",
              "      <th></th>\n",
              "      <th></th>\n",
              "      <th></th>\n",
              "      <th></th>\n",
              "      <th></th>\n",
              "    </tr>\n",
              "  </thead>\n",
              "  <tbody>\n",
              "    <tr>\n",
              "      <th>AFLITOS</th>\n",
              "      <td>316.0</td>\n",
              "      <td>40.0</td>\n",
              "      <td>1.0</td>\n",
              "      <td>0.0</td>\n",
              "      <td>2.0</td>\n",
              "      <td>22.0</td>\n",
              "      <td>22.0</td>\n",
              "      <td>3.0</td>\n",
              "      <td>1.0</td>\n",
              "      <td>29.0</td>\n",
              "      <td>0.0</td>\n",
              "    </tr>\n",
              "    <tr>\n",
              "      <th>AFOGADOS</th>\n",
              "      <td>1971.0</td>\n",
              "      <td>417.0</td>\n",
              "      <td>11.0</td>\n",
              "      <td>27.0</td>\n",
              "      <td>29.0</td>\n",
              "      <td>214.0</td>\n",
              "      <td>294.0</td>\n",
              "      <td>22.0</td>\n",
              "      <td>31.0</td>\n",
              "      <td>325.0</td>\n",
              "      <td>6.0</td>\n",
              "    </tr>\n",
              "    <tr>\n",
              "      <th>ALTO DO MANDU</th>\n",
              "      <td>27.0</td>\n",
              "      <td>5.0</td>\n",
              "      <td>0.0</td>\n",
              "      <td>0.0</td>\n",
              "      <td>4.0</td>\n",
              "      <td>5.0</td>\n",
              "      <td>8.0</td>\n",
              "      <td>0.0</td>\n",
              "      <td>0.0</td>\n",
              "      <td>5.0</td>\n",
              "      <td>0.0</td>\n",
              "    </tr>\n",
              "    <tr>\n",
              "      <th>ALTO JOSÉ BONIFÁCIO</th>\n",
              "      <td>66.0</td>\n",
              "      <td>25.0</td>\n",
              "      <td>0.0</td>\n",
              "      <td>2.0</td>\n",
              "      <td>0.0</td>\n",
              "      <td>25.0</td>\n",
              "      <td>7.0</td>\n",
              "      <td>0.0</td>\n",
              "      <td>0.0</td>\n",
              "      <td>22.0</td>\n",
              "      <td>1.0</td>\n",
              "    </tr>\n",
              "    <tr>\n",
              "      <th>ALTO JOSÉ DO PINHO</th>\n",
              "      <td>42.0</td>\n",
              "      <td>17.0</td>\n",
              "      <td>0.0</td>\n",
              "      <td>1.0</td>\n",
              "      <td>4.0</td>\n",
              "      <td>1.0</td>\n",
              "      <td>6.0</td>\n",
              "      <td>2.0</td>\n",
              "      <td>0.0</td>\n",
              "      <td>14.0</td>\n",
              "      <td>0.0</td>\n",
              "    </tr>\n",
              "    <tr>\n",
              "      <th>...</th>\n",
              "      <td>...</td>\n",
              "      <td>...</td>\n",
              "      <td>...</td>\n",
              "      <td>...</td>\n",
              "      <td>...</td>\n",
              "      <td>...</td>\n",
              "      <td>...</td>\n",
              "      <td>...</td>\n",
              "      <td>...</td>\n",
              "      <td>...</td>\n",
              "      <td>...</td>\n",
              "    </tr>\n",
              "    <tr>\n",
              "      <th>TOTÓ</th>\n",
              "      <td>61.0</td>\n",
              "      <td>34.0</td>\n",
              "      <td>0.0</td>\n",
              "      <td>2.0</td>\n",
              "      <td>5.0</td>\n",
              "      <td>17.0</td>\n",
              "      <td>4.0</td>\n",
              "      <td>1.0</td>\n",
              "      <td>1.0</td>\n",
              "      <td>21.0</td>\n",
              "      <td>0.0</td>\n",
              "    </tr>\n",
              "    <tr>\n",
              "      <th>VASCO DA GAMA</th>\n",
              "      <td>183.0</td>\n",
              "      <td>81.0</td>\n",
              "      <td>2.0</td>\n",
              "      <td>4.0</td>\n",
              "      <td>8.0</td>\n",
              "      <td>52.0</td>\n",
              "      <td>24.0</td>\n",
              "      <td>4.0</td>\n",
              "      <td>2.0</td>\n",
              "      <td>54.0</td>\n",
              "      <td>1.0</td>\n",
              "    </tr>\n",
              "    <tr>\n",
              "      <th>VÁRZEA</th>\n",
              "      <td>930.0</td>\n",
              "      <td>220.0</td>\n",
              "      <td>5.0</td>\n",
              "      <td>18.0</td>\n",
              "      <td>16.0</td>\n",
              "      <td>127.0</td>\n",
              "      <td>81.0</td>\n",
              "      <td>6.0</td>\n",
              "      <td>8.0</td>\n",
              "      <td>180.0</td>\n",
              "      <td>4.0</td>\n",
              "    </tr>\n",
              "    <tr>\n",
              "      <th>ZUMBI</th>\n",
              "      <td>66.0</td>\n",
              "      <td>13.0</td>\n",
              "      <td>1.0</td>\n",
              "      <td>3.0</td>\n",
              "      <td>0.0</td>\n",
              "      <td>0.0</td>\n",
              "      <td>2.0</td>\n",
              "      <td>0.0</td>\n",
              "      <td>0.0</td>\n",
              "      <td>7.0</td>\n",
              "      <td>0.0</td>\n",
              "    </tr>\n",
              "    <tr>\n",
              "      <th>ÁGUA FRIA</th>\n",
              "      <td>482.0</td>\n",
              "      <td>166.0</td>\n",
              "      <td>5.0</td>\n",
              "      <td>14.0</td>\n",
              "      <td>19.0</td>\n",
              "      <td>89.0</td>\n",
              "      <td>51.0</td>\n",
              "      <td>4.0</td>\n",
              "      <td>9.0</td>\n",
              "      <td>152.0</td>\n",
              "      <td>3.0</td>\n",
              "    </tr>\n",
              "  </tbody>\n",
              "</table>\n",
              "<p>96 rows × 11 columns</p>\n",
              "</div>"
            ],
            "text/plain": [
              "                       auto   moto  ciclom  ...  outros  vitimas  vitimasfatais\n",
              "bairro                                      ...                                \n",
              "AFLITOS               316.0   40.0     1.0  ...     1.0     29.0            0.0\n",
              "AFOGADOS             1971.0  417.0    11.0  ...    31.0    325.0            6.0\n",
              "ALTO DO MANDU          27.0    5.0     0.0  ...     0.0      5.0            0.0\n",
              "ALTO JOSÉ BONIFÁCIO    66.0   25.0     0.0  ...     0.0     22.0            1.0\n",
              "ALTO JOSÉ DO PINHO     42.0   17.0     0.0  ...     0.0     14.0            0.0\n",
              "...                     ...    ...     ...  ...     ...      ...            ...\n",
              "TOTÓ                   61.0   34.0     0.0  ...     1.0     21.0            0.0\n",
              "VASCO DA GAMA         183.0   81.0     2.0  ...     2.0     54.0            1.0\n",
              "VÁRZEA                930.0  220.0     5.0  ...     8.0    180.0            4.0\n",
              "ZUMBI                  66.0   13.0     1.0  ...     0.0      7.0            0.0\n",
              "ÁGUA FRIA             482.0  166.0     5.0  ...     9.0    152.0            3.0\n",
              "\n",
              "[96 rows x 11 columns]"
            ]
          },
          "metadata": {
            "tags": []
          },
          "execution_count": 117
        }
      ]
    },
    {
      "cell_type": "code",
      "metadata": {
        "id": "-78xVDgm2dnv"
      },
      "source": [
        ""
      ],
      "execution_count": null,
      "outputs": []
    }
  ]
}